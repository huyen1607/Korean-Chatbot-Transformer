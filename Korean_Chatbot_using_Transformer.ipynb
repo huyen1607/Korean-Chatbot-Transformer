{
  "nbformat": 4,
  "nbformat_minor": 0,
  "metadata": {
    "kernelspec": {
      "display_name": "Python 3",
      "language": "python",
      "name": "python3"
    },
    "language_info": {
      "codemirror_mode": {
        "name": "ipython",
        "version": 3
      },
      "file_extension": ".py",
      "mimetype": "text/x-python",
      "name": "python",
      "nbconvert_exporter": "python",
      "pygments_lexer": "ipython3",
      "version": "3.7.6"
    },
    "colab": {
      "provenance": [],
      "include_colab_link": true
    },
    "accelerator": "GPU",
    "gpuClass": "standard"
  },
  "cells": [
    {
      "cell_type": "markdown",
      "metadata": {
        "id": "view-in-github",
        "colab_type": "text"
      },
      "source": [
        "<a href=\"https://colab.research.google.com/github/huyen1607/Korean-Chatbot-Transformer/blob/main/Korean_Chatbot_using_Transformer.ipynb\" target=\"_parent\"><img src=\"https://colab.research.google.com/assets/colab-badge.svg\" alt=\"Open In Colab\"/></a>"
      ]
    },
    {
      "cell_type": "code",
      "metadata": {
        "colab": {
          "base_uri": "https://localhost:8080/"
        },
        "id": "mOJWqPzNL10L",
        "outputId": "16b411ab-2c53-4be5-fcf6-6fdcf8bffad5"
      },
      "source": [
        "from google.colab import drive\n",
        "drive.mount('/content/drive')"
      ],
      "execution_count": null,
      "outputs": [
        {
          "output_type": "stream",
          "name": "stdout",
          "text": [
            "Mounted at /content/drive\n"
          ]
        }
      ]
    },
    {
      "cell_type": "code",
      "metadata": {
        "colab": {
          "base_uri": "https://localhost:8080/"
        },
        "id": "raX3-nvYL31H",
        "outputId": "437f7d49-7b62-483a-aadc-85dc0a3401a2"
      },
      "source": [
        "!pip install konlpy"
      ],
      "execution_count": null,
      "outputs": [
        {
          "output_type": "stream",
          "name": "stdout",
          "text": [
            "Looking in indexes: https://pypi.org/simple, https://us-python.pkg.dev/colab-wheels/public/simple/\n",
            "Collecting konlpy\n",
            "  Downloading konlpy-0.6.0-py2.py3-none-any.whl (19.4 MB)\n",
            "\u001b[K     |████████████████████████████████| 19.4 MB 1.2 MB/s \n",
            "\u001b[?25hRequirement already satisfied: numpy>=1.6 in /usr/local/lib/python3.7/dist-packages (from konlpy) (1.21.6)\n",
            "Collecting JPype1>=0.7.0\n",
            "  Downloading JPype1-1.4.1-cp37-cp37m-manylinux_2_12_x86_64.manylinux2010_x86_64.whl (465 kB)\n",
            "\u001b[K     |████████████████████████████████| 465 kB 69.5 MB/s \n",
            "\u001b[?25hRequirement already satisfied: lxml>=4.1.0 in /usr/local/lib/python3.7/dist-packages (from konlpy) (4.9.1)\n",
            "Requirement already satisfied: typing-extensions in /usr/local/lib/python3.7/dist-packages (from JPype1>=0.7.0->konlpy) (4.1.1)\n",
            "Requirement already satisfied: packaging in /usr/local/lib/python3.7/dist-packages (from JPype1>=0.7.0->konlpy) (21.3)\n",
            "Requirement already satisfied: pyparsing!=3.0.5,>=2.0.2 in /usr/local/lib/python3.7/dist-packages (from packaging->JPype1>=0.7.0->konlpy) (3.0.9)\n",
            "Installing collected packages: JPype1, konlpy\n",
            "Successfully installed JPype1-1.4.1 konlpy-0.6.0\n"
          ]
        }
      ]
    },
    {
      "cell_type": "code",
      "metadata": {
        "id": "_zYdZaERP1F_"
      },
      "source": [
        "import os\n",
        "import pandas as pd\n",
        "import numpy as np\n",
        "import json\n",
        "\n",
        "from konlpy.tag import Okt\n"
      ],
      "execution_count": null,
      "outputs": []
    },
    {
      "cell_type": "code",
      "metadata": {
        "colab": {
          "base_uri": "https://localhost:8080/",
          "height": 86
        },
        "id": "TMlL9vD_NOWX",
        "outputId": "87dea6bd-9933-4740-aa45-a95a3a6f06cf"
      },
      "source": [
        "from google.colab import files\n",
        "src = list(files.upload().values())[0]\n",
        "open('preprocess.py','wb').write(src)\n",
        "import preprocess"
      ],
      "execution_count": null,
      "outputs": [
        {
          "output_type": "display_data",
          "data": {
            "text/plain": [
              "<IPython.core.display.HTML object>"
            ],
            "text/html": [
              "\n",
              "     <input type=\"file\" id=\"files-96de46dc-bcfe-460a-903f-5e46239de85d\" name=\"files[]\" multiple disabled\n",
              "        style=\"border:none\" />\n",
              "     <output id=\"result-96de46dc-bcfe-460a-903f-5e46239de85d\">\n",
              "      Upload widget is only available when the cell has been executed in the\n",
              "      current browser session. Please rerun this cell to enable.\n",
              "      </output>\n",
              "      <script>// Copyright 2017 Google LLC\n",
              "//\n",
              "// Licensed under the Apache License, Version 2.0 (the \"License\");\n",
              "// you may not use this file except in compliance with the License.\n",
              "// You may obtain a copy of the License at\n",
              "//\n",
              "//      http://www.apache.org/licenses/LICENSE-2.0\n",
              "//\n",
              "// Unless required by applicable law or agreed to in writing, software\n",
              "// distributed under the License is distributed on an \"AS IS\" BASIS,\n",
              "// WITHOUT WARRANTIES OR CONDITIONS OF ANY KIND, either express or implied.\n",
              "// See the License for the specific language governing permissions and\n",
              "// limitations under the License.\n",
              "\n",
              "/**\n",
              " * @fileoverview Helpers for google.colab Python module.\n",
              " */\n",
              "(function(scope) {\n",
              "function span(text, styleAttributes = {}) {\n",
              "  const element = document.createElement('span');\n",
              "  element.textContent = text;\n",
              "  for (const key of Object.keys(styleAttributes)) {\n",
              "    element.style[key] = styleAttributes[key];\n",
              "  }\n",
              "  return element;\n",
              "}\n",
              "\n",
              "// Max number of bytes which will be uploaded at a time.\n",
              "const MAX_PAYLOAD_SIZE = 100 * 1024;\n",
              "\n",
              "function _uploadFiles(inputId, outputId) {\n",
              "  const steps = uploadFilesStep(inputId, outputId);\n",
              "  const outputElement = document.getElementById(outputId);\n",
              "  // Cache steps on the outputElement to make it available for the next call\n",
              "  // to uploadFilesContinue from Python.\n",
              "  outputElement.steps = steps;\n",
              "\n",
              "  return _uploadFilesContinue(outputId);\n",
              "}\n",
              "\n",
              "// This is roughly an async generator (not supported in the browser yet),\n",
              "// where there are multiple asynchronous steps and the Python side is going\n",
              "// to poll for completion of each step.\n",
              "// This uses a Promise to block the python side on completion of each step,\n",
              "// then passes the result of the previous step as the input to the next step.\n",
              "function _uploadFilesContinue(outputId) {\n",
              "  const outputElement = document.getElementById(outputId);\n",
              "  const steps = outputElement.steps;\n",
              "\n",
              "  const next = steps.next(outputElement.lastPromiseValue);\n",
              "  return Promise.resolve(next.value.promise).then((value) => {\n",
              "    // Cache the last promise value to make it available to the next\n",
              "    // step of the generator.\n",
              "    outputElement.lastPromiseValue = value;\n",
              "    return next.value.response;\n",
              "  });\n",
              "}\n",
              "\n",
              "/**\n",
              " * Generator function which is called between each async step of the upload\n",
              " * process.\n",
              " * @param {string} inputId Element ID of the input file picker element.\n",
              " * @param {string} outputId Element ID of the output display.\n",
              " * @return {!Iterable<!Object>} Iterable of next steps.\n",
              " */\n",
              "function* uploadFilesStep(inputId, outputId) {\n",
              "  const inputElement = document.getElementById(inputId);\n",
              "  inputElement.disabled = false;\n",
              "\n",
              "  const outputElement = document.getElementById(outputId);\n",
              "  outputElement.innerHTML = '';\n",
              "\n",
              "  const pickedPromise = new Promise((resolve) => {\n",
              "    inputElement.addEventListener('change', (e) => {\n",
              "      resolve(e.target.files);\n",
              "    });\n",
              "  });\n",
              "\n",
              "  const cancel = document.createElement('button');\n",
              "  inputElement.parentElement.appendChild(cancel);\n",
              "  cancel.textContent = 'Cancel upload';\n",
              "  const cancelPromise = new Promise((resolve) => {\n",
              "    cancel.onclick = () => {\n",
              "      resolve(null);\n",
              "    };\n",
              "  });\n",
              "\n",
              "  // Wait for the user to pick the files.\n",
              "  const files = yield {\n",
              "    promise: Promise.race([pickedPromise, cancelPromise]),\n",
              "    response: {\n",
              "      action: 'starting',\n",
              "    }\n",
              "  };\n",
              "\n",
              "  cancel.remove();\n",
              "\n",
              "  // Disable the input element since further picks are not allowed.\n",
              "  inputElement.disabled = true;\n",
              "\n",
              "  if (!files) {\n",
              "    return {\n",
              "      response: {\n",
              "        action: 'complete',\n",
              "      }\n",
              "    };\n",
              "  }\n",
              "\n",
              "  for (const file of files) {\n",
              "    const li = document.createElement('li');\n",
              "    li.append(span(file.name, {fontWeight: 'bold'}));\n",
              "    li.append(span(\n",
              "        `(${file.type || 'n/a'}) - ${file.size} bytes, ` +\n",
              "        `last modified: ${\n",
              "            file.lastModifiedDate ? file.lastModifiedDate.toLocaleDateString() :\n",
              "                                    'n/a'} - `));\n",
              "    const percent = span('0% done');\n",
              "    li.appendChild(percent);\n",
              "\n",
              "    outputElement.appendChild(li);\n",
              "\n",
              "    const fileDataPromise = new Promise((resolve) => {\n",
              "      const reader = new FileReader();\n",
              "      reader.onload = (e) => {\n",
              "        resolve(e.target.result);\n",
              "      };\n",
              "      reader.readAsArrayBuffer(file);\n",
              "    });\n",
              "    // Wait for the data to be ready.\n",
              "    let fileData = yield {\n",
              "      promise: fileDataPromise,\n",
              "      response: {\n",
              "        action: 'continue',\n",
              "      }\n",
              "    };\n",
              "\n",
              "    // Use a chunked sending to avoid message size limits. See b/62115660.\n",
              "    let position = 0;\n",
              "    do {\n",
              "      const length = Math.min(fileData.byteLength - position, MAX_PAYLOAD_SIZE);\n",
              "      const chunk = new Uint8Array(fileData, position, length);\n",
              "      position += length;\n",
              "\n",
              "      const base64 = btoa(String.fromCharCode.apply(null, chunk));\n",
              "      yield {\n",
              "        response: {\n",
              "          action: 'append',\n",
              "          file: file.name,\n",
              "          data: base64,\n",
              "        },\n",
              "      };\n",
              "\n",
              "      let percentDone = fileData.byteLength === 0 ?\n",
              "          100 :\n",
              "          Math.round((position / fileData.byteLength) * 100);\n",
              "      percent.textContent = `${percentDone}% done`;\n",
              "\n",
              "    } while (position < fileData.byteLength);\n",
              "  }\n",
              "\n",
              "  // All done.\n",
              "  yield {\n",
              "    response: {\n",
              "      action: 'complete',\n",
              "    }\n",
              "  };\n",
              "}\n",
              "\n",
              "scope.google = scope.google || {};\n",
              "scope.google.colab = scope.google.colab || {};\n",
              "scope.google.colab._files = {\n",
              "  _uploadFiles,\n",
              "  _uploadFilesContinue,\n",
              "};\n",
              "})(self);\n",
              "</script> "
            ]
          },
          "metadata": {}
        },
        {
          "output_type": "stream",
          "name": "stdout",
          "text": [
            "Saving preprocess.py to preprocess.py\n"
          ]
        }
      ]
    },
    {
      "cell_type": "code",
      "metadata": {
        "id": "g8Y_XznHLHCy"
      },
      "source": [
        "PATH = '/content/drive/MyDrive/Colab Notebooks/data_in(9)/ChatBotData.csv_short.'\n",
        "VOCAB_PATH = '/content/drive/MyDrive/Colab Notebooks/data_in(9)/vocabulary.txt'"
      ],
      "execution_count": null,
      "outputs": []
    },
    {
      "cell_type": "code",
      "metadata": {
        "id": "y54iGe0dLHCy"
      },
      "source": [
        "inputs, outputs = preprocess.load_data(PATH)"
      ],
      "execution_count": null,
      "outputs": []
    },
    {
      "cell_type": "code",
      "metadata": {
        "id": "U9D1cidbLHCz"
      },
      "source": [
        "char2idx, idx2char, vocab_size = preprocess.load_vocabulary(PATH, VOCAB_PATH, tokenize_as_morph=False)"
      ],
      "execution_count": null,
      "outputs": []
    },
    {
      "cell_type": "code",
      "metadata": {
        "id": "hPtl_rOvLHCz"
      },
      "source": [
        "index_inputs, input_seq_len =preprocess.enc_processing(inputs, char2idx, tokenize_as_morph=False)\n",
        "index_outputs, output_seq_len = preprocess.dec_output_processing(outputs, char2idx, tokenize_as_morph=False)\n",
        "index_targets = preprocess.dec_target_processing(outputs, char2idx, tokenize_as_morph=False)"
      ],
      "execution_count": null,
      "outputs": []
    },
    {
      "cell_type": "code",
      "metadata": {
        "id": "omsBJoZFLHC0"
      },
      "source": [
        "data_configs = {}\n",
        "data_configs['char2idx'] = char2idx\n",
        "data_configs['idx2char'] = idx2char\n",
        "data_configs['vocab_size'] = vocab_size\n",
        "data_configs['pad_symbol'] = preprocess.PAD\n",
        "data_configs['std_symbol'] = preprocess.STD\n",
        "data_configs['end_symbol'] = preprocess.END\n",
        "data_configs['unk_symbol'] = preprocess.UNK"
      ],
      "execution_count": null,
      "outputs": []
    },
    {
      "cell_type": "code",
      "metadata": {
        "id": "dXIO3E8YLHC0"
      },
      "source": [
        "DATA_IN_PATH = '/content/drive/MyDrive/Colab Notebooks/data_in (1)/'\n",
        "DATA_OUT_PATH = '/content/drive/MyDrive/Colab Notebooks/data_out(new)/'\n",
        "TRAIN_INPUTS = 'train_inputs.npy'\n",
        "TRAIN_OUTPUTS = 'train_outputs.npy'\n",
        "TRAIN_TARGETS = 'train_targets.npy'\n",
        "DATA_CONFIGS = 'data_configs.json'\n",
        "\n",
        "np.save(open(DATA_IN_PATH + TRAIN_INPUTS, 'wb'), index_inputs)\n",
        "np.save(open(DATA_IN_PATH + TRAIN_OUTPUTS , 'wb'), index_outputs)\n",
        "np.save(open(DATA_IN_PATH + TRAIN_TARGETS , 'wb'), index_targets)\n",
        "\n",
        "json.dump(data_configs, open(DATA_IN_PATH + DATA_CONFIGS, 'w'))"
      ],
      "execution_count": null,
      "outputs": []
    },
    {
      "cell_type": "code",
      "metadata": {
        "colab": {
          "base_uri": "https://localhost:8080/"
        },
        "id": "YmTSl30PLHC1",
        "outputId": "46075eb3-9753-4627-df26-9b98180d89ee"
      },
      "source": [
        "char2idx"
      ],
      "execution_count": null,
      "outputs": [
        {
          "output_type": "execute_result",
          "data": {
            "text/plain": [
              "{'<PAD>': 0,\n",
              " '<SOS>': 1,\n",
              " '<END>': 2,\n",
              " '<UNK>': 3,\n",
              " '남자친구가': 4,\n",
              " '가상화폐': 5,\n",
              " '줄까': 6,\n",
              " '가스불': 7,\n",
              " '좋다': 8,\n",
              " '나갔어': 9,\n",
              " '나': 10,\n",
              " '설움': 11,\n",
              " '달에는': 12,\n",
              " '교회': 13,\n",
              " '사세요': 14,\n",
              " '생각해보세요': 15,\n",
              " '가끔': 16,\n",
              " '절약해봐요': 17,\n",
              " '같아요': 18,\n",
              " '운동': 19,\n",
              " '남자친구': 20,\n",
              " '하세요': 21,\n",
              " '적당히': 22,\n",
              " '해': 23,\n",
              " '뭐하는지': 24,\n",
              " '가만': 25,\n",
              " '또': 26,\n",
              " '즐기세요': 27,\n",
              " '선물로': 28,\n",
              " '돈은': 29,\n",
              " '때까지': 30,\n",
              " '빨리': 31,\n",
              " '전생에': 32,\n",
              " '감기': 33,\n",
              " '자의': 34,\n",
              " '걸리겠어': 35,\n",
              " '나온거': 36,\n",
              " '좀': 37,\n",
              " '가스비': 38,\n",
              " '오늘': 39,\n",
              " '같아': 40,\n",
              " '해보세요': 41,\n",
              " '잊고': 42,\n",
              " '집에': 43,\n",
              " '거짓말': 44,\n",
              " '있어도': 45,\n",
              " '사람도': 46,\n",
              " '쫄딱': 47,\n",
              " '열': 48,\n",
              " '나오세요': 49,\n",
              " '뭐가': 50,\n",
              " '땀을': 51,\n",
              " '함께': 52,\n",
              " '집착하지': 53,\n",
              " '보인다': 54,\n",
              " '망함': 55,\n",
              " '거예요': 56,\n",
              " '혼자를': 57,\n",
              " '마음을': 58,\n",
              " '것': 59,\n",
              " '데려가고': 60,\n",
              " '땀난다': 61,\n",
              " '따뜻하게': 62,\n",
              " '나라를': 63,\n",
              " '따라': 64,\n",
              " '좋을': 65,\n",
              " '좋을까': 66,\n",
              " '운동을': 67,\n",
              " '돌아가서': 68,\n",
              " '빠를수록': 69,\n",
              " '뭘': 70,\n",
              " '새출발': 71,\n",
              " '바빠': 72,\n",
              " '갔어': 73,\n",
              " '더': 74,\n",
              " '훈훈해': 75,\n",
              " '마세요': 76,\n",
              " '생일인데': 77,\n",
              " '그럴': 78,\n",
              " '끄고': 79,\n",
              " '어서': 80,\n",
              " '게': 81,\n",
              " '너무': 82,\n",
              " '구하셨나요': 83,\n",
              " '믿어줘': 84,\n",
              " '질린다': 85,\n",
              " '혼자인게': 86,\n",
              " '평소에': 87,\n",
              " '안': 88,\n",
              " '그': 89,\n",
              " '운동만': 90,\n",
              " '비싼데': 91,\n",
              " '잘생겼어': 92,\n",
              " '필요했던': 93,\n",
              " '가끔은': 94,\n",
              " '많이': 95,\n",
              " '켜놓고': 96,\n",
              " '좋아요': 97,\n",
              " '결단은': 98,\n",
              " '식혀주세요': 99,\n",
              " '켜고': 100,\n",
              " '들어올': 101,\n",
              " '나왔다': 102,\n",
              " '다음': 103,\n",
              " '필요한': 104,\n",
              " '궁금해': 105,\n",
              " '가난한': 106,\n",
              " '다시': 107,\n",
              " '설득해보세요': 108,\n",
              " '승진': 109,\n",
              " '싶어': 110}"
            ]
          },
          "metadata": {},
          "execution_count": 11
        }
      ]
    },
    {
      "cell_type": "code",
      "metadata": {
        "colab": {
          "base_uri": "https://localhost:8080/"
        },
        "id": "_nY2GrJ5LHC2",
        "outputId": "07c2cf82-377b-468d-ee27-4a92562154c2"
      },
      "source": [
        "idx2char"
      ],
      "execution_count": null,
      "outputs": [
        {
          "output_type": "execute_result",
          "data": {
            "text/plain": [
              "{0: '<PAD>',\n",
              " 1: '<SOS>',\n",
              " 2: '<END>',\n",
              " 3: '<UNK>',\n",
              " 4: '남자친구가',\n",
              " 5: '가상화폐',\n",
              " 6: '줄까',\n",
              " 7: '가스불',\n",
              " 8: '좋다',\n",
              " 9: '나갔어',\n",
              " 10: '나',\n",
              " 11: '설움',\n",
              " 12: '달에는',\n",
              " 13: '교회',\n",
              " 14: '사세요',\n",
              " 15: '생각해보세요',\n",
              " 16: '가끔',\n",
              " 17: '절약해봐요',\n",
              " 18: '같아요',\n",
              " 19: '운동',\n",
              " 20: '남자친구',\n",
              " 21: '하세요',\n",
              " 22: '적당히',\n",
              " 23: '해',\n",
              " 24: '뭐하는지',\n",
              " 25: '가만',\n",
              " 26: '또',\n",
              " 27: '즐기세요',\n",
              " 28: '선물로',\n",
              " 29: '돈은',\n",
              " 30: '때까지',\n",
              " 31: '빨리',\n",
              " 32: '전생에',\n",
              " 33: '감기',\n",
              " 34: '자의',\n",
              " 35: '걸리겠어',\n",
              " 36: '나온거',\n",
              " 37: '좀',\n",
              " 38: '가스비',\n",
              " 39: '오늘',\n",
              " 40: '같아',\n",
              " 41: '해보세요',\n",
              " 42: '잊고',\n",
              " 43: '집에',\n",
              " 44: '거짓말',\n",
              " 45: '있어도',\n",
              " 46: '사람도',\n",
              " 47: '쫄딱',\n",
              " 48: '열',\n",
              " 49: '나오세요',\n",
              " 50: '뭐가',\n",
              " 51: '땀을',\n",
              " 52: '함께',\n",
              " 53: '집착하지',\n",
              " 54: '보인다',\n",
              " 55: '망함',\n",
              " 56: '거예요',\n",
              " 57: '혼자를',\n",
              " 58: '마음을',\n",
              " 59: '것',\n",
              " 60: '데려가고',\n",
              " 61: '땀난다',\n",
              " 62: '따뜻하게',\n",
              " 63: '나라를',\n",
              " 64: '따라',\n",
              " 65: '좋을',\n",
              " 66: '좋을까',\n",
              " 67: '운동을',\n",
              " 68: '돌아가서',\n",
              " 69: '빠를수록',\n",
              " 70: '뭘',\n",
              " 71: '새출발',\n",
              " 72: '바빠',\n",
              " 73: '갔어',\n",
              " 74: '더',\n",
              " 75: '훈훈해',\n",
              " 76: '마세요',\n",
              " 77: '생일인데',\n",
              " 78: '그럴',\n",
              " 79: '끄고',\n",
              " 80: '어서',\n",
              " 81: '게',\n",
              " 82: '너무',\n",
              " 83: '구하셨나요',\n",
              " 84: '믿어줘',\n",
              " 85: '질린다',\n",
              " 86: '혼자인게',\n",
              " 87: '평소에',\n",
              " 88: '안',\n",
              " 89: '그',\n",
              " 90: '운동만',\n",
              " 91: '비싼데',\n",
              " 92: '잘생겼어',\n",
              " 93: '필요했던',\n",
              " 94: '가끔은',\n",
              " 95: '많이',\n",
              " 96: '켜놓고',\n",
              " 97: '좋아요',\n",
              " 98: '결단은',\n",
              " 99: '식혀주세요',\n",
              " 100: '켜고',\n",
              " 101: '들어올',\n",
              " 102: '나왔다',\n",
              " 103: '다음',\n",
              " 104: '필요한',\n",
              " 105: '궁금해',\n",
              " 106: '가난한',\n",
              " 107: '다시',\n",
              " 108: '설득해보세요',\n",
              " 109: '승진',\n",
              " 110: '싶어'}"
            ]
          },
          "metadata": {},
          "execution_count": 12
        }
      ]
    },
    {
      "cell_type": "code",
      "metadata": {
        "id": "MW_qejVsLHC3"
      },
      "source": [
        "import tensorflow as tf\n",
        "import numpy as np\n",
        "import os\n",
        "\n",
        "from tensorflow.keras.callbacks import EarlyStopping, ModelCheckpoint\n",
        "import matplotlib.pyplot as plt"
      ],
      "execution_count": null,
      "outputs": []
    },
    {
      "cell_type": "code",
      "metadata": {
        "id": "jzx-uO36LHC3"
      },
      "source": [
        "def plot_graphs(history, string):\n",
        "    plt.plot(history.history[string])\n",
        "    plt.plot(history.history['val_'+string], '')\n",
        "    plt.xlabel(\"Epochs\")\n",
        "    plt.ylabel(string)\n",
        "    plt.legend([string, 'val_'+string])\n",
        "    plt.show()"
      ],
      "execution_count": null,
      "outputs": []
    },
    {
      "cell_type": "code",
      "metadata": {
        "id": "7QhRT2AbVa_d"
      },
      "source": [
        "DATA_IN_PATH = '/content/drive/MyDrive/Colab Notebooks/data_in (1)/'\n",
        "DATA_OUT_PATH = '/content/drive/MyDrive/Colab Notebooks/data_out(new)/'\n",
        "TRAIN_INPUTS = 'train_inputs.npy'\n",
        "TRAIN_OUTPUTS = 'train_outputs.npy'\n",
        "TRAIN_TARGETS = 'train_targets.npy'\n",
        "DATA_CONFIGS = 'data_configs.json'"
      ],
      "execution_count": null,
      "outputs": []
    },
    {
      "cell_type": "code",
      "metadata": {
        "id": "rkBOeoBdVbB7"
      },
      "source": [
        "SEED_NUM = 1234\n",
        "tf.random.set_seed(SEED_NUM)"
      ],
      "execution_count": null,
      "outputs": []
    },
    {
      "cell_type": "code",
      "metadata": {
        "id": "H_rukl0bVbFI"
      },
      "source": [
        "index_inputs = np.load(open(DATA_IN_PATH + TRAIN_INPUTS, 'rb'))\n",
        "index_outputs = np.load(open(DATA_IN_PATH + TRAIN_OUTPUTS , 'rb'))\n",
        "index_targets = np.load(open(DATA_IN_PATH + TRAIN_TARGETS , 'rb'))\n",
        "prepro_configs = json.load(open(DATA_IN_PATH + DATA_CONFIGS, 'r'))"
      ],
      "execution_count": null,
      "outputs": []
    },
    {
      "cell_type": "code",
      "metadata": {
        "colab": {
          "base_uri": "https://localhost:8080/"
        },
        "id": "_tNLOOw3VbIB",
        "outputId": "8d9763b4-baca-46a7-851b-03b90914ff45"
      },
      "source": [
        "# Show length\n",
        "print(len(index_inputs),  len(index_outputs), len(index_targets))"
      ],
      "execution_count": null,
      "outputs": [
        {
          "output_type": "stream",
          "name": "stdout",
          "text": [
            "20 20 20\n"
          ]
        }
      ]
    },
    {
      "cell_type": "code",
      "metadata": {
        "id": "hv_9p7xsVbKX"
      },
      "source": [
        "char2idx = prepro_configs['char2idx']\n",
        "end_index = prepro_configs['end_symbol']\n",
        "model_name = 'transformer'\n",
        "vocab_size = prepro_configs['vocab_size']\n",
        "BATCH_SIZE = 2\n",
        "MAX_SEQUENCE = 25\n",
        "EPOCHS = 30\n",
        "VALID_SPLIT = 0.1\n",
        "\n",
        "kargs = {'model_name': model_name,\n",
        "         'num_layers': 2,\n",
        "         'd_model': 512,\n",
        "         'num_heads': 8,\n",
        "         'dff': 2048,\n",
        "         'input_vocab_size': vocab_size,\n",
        "         'target_vocab_size': vocab_size,\n",
        "         'maximum_position_encoding': MAX_SEQUENCE,\n",
        "         'end_token_idx': char2idx[end_index],\n",
        "         'rate': 0.1\n",
        "        }"
      ],
      "execution_count": null,
      "outputs": []
    },
    {
      "cell_type": "code",
      "metadata": {
        "id": "yNr1AsRoVbNC"
      },
      "source": [
        "def create_padding_mask(seq):\n",
        "    seq = tf.cast(tf.math.equal(seq, 0), tf.float32)\n",
        "\n",
        "    # add extra dimensions to add the padding\n",
        "    # to the attention logits.\n",
        "    return seq[:, tf.newaxis, tf.newaxis, :]  # (batch_size, 1, 1, seq_len)"
      ],
      "execution_count": null,
      "outputs": []
    },
    {
      "cell_type": "code",
      "metadata": {
        "id": "DunFInVcVbQA"
      },
      "source": [
        "def create_look_ahead_mask(size):\n",
        "  mask = 1 - tf.linalg.band_part(tf.ones((size,size)),-1,0)\n",
        "  return mask"
      ],
      "execution_count": null,
      "outputs": []
    },
    {
      "cell_type": "code",
      "metadata": {
        "id": "coY2jaTmVudt"
      },
      "source": [
        "def create_masks(inp, tar):\n",
        "    # Encoder padding mask\n",
        "    enc_padding_mask = create_padding_mask(inp)\n",
        "\n",
        "    # Used in the 2nd attention block in the decoder.\n",
        "    # This padding mask is used to mask the encoder outputs.\n",
        "    dec_padding_mask = create_padding_mask(inp)\n",
        "\n",
        "    # Used in the 1st attention block in the decoder.\n",
        "    # It is used to pad and mask future tokens in the input received by\n",
        "    # the decoder.\n",
        "    look_ahead_mask = create_look_ahead_mask(tf.shape(tar)[1])\n",
        "    dec_target_padding_mask = create_padding_mask(tar)\n",
        "    combined_mask = tf.maximum(dec_target_padding_mask, look_ahead_mask)\n",
        "\n",
        "    return enc_padding_mask, combined_mask, dec_padding_mask"
      ],
      "execution_count": null,
      "outputs": []
    },
    {
      "cell_type": "code",
      "metadata": {
        "id": "i0Szndv_Vx0-"
      },
      "source": [
        "def scaled_dot_product_attention(q,k,v,mask):\n",
        "  matmul_qk = tf.matmul(q,k, transpose_b=True)\n",
        "\n",
        "  dk=tf.cast(tf.shape(k)[-1], tf.float32)\n",
        "  scaled_attention_logits = matmul_qk / tf.math.sqrt(dk)\n",
        "\n",
        "  if mask is not None:\n",
        "    scaled_attention_logits += (mask * -1e9)\n",
        "\n",
        "  attention_weights = tf.nn.softmax(scaled_attention_logits,axis=-1)\n",
        "\n",
        "  output = tf.matmul(attention_weights, v)\n",
        "\n",
        "  return output, attention_weights"
      ],
      "execution_count": null,
      "outputs": []
    },
    {
      "cell_type": "code",
      "metadata": {
        "id": "Apvb2fqUVx3f"
      },
      "source": [
        "class MultiHeadAttention(tf.keras.layers.Layer):\n",
        "  def __init__(self, **kargs):\n",
        "    super(MultiHeadAttention, self).__init__()\n",
        "    self.num_heads = kargs['num_heads']\n",
        "    self.d_model = kargs['d_model']\n",
        "\n",
        "    assert self.d_model % self.num_heads == 0\n",
        "\n",
        "    self.depth = self.d_model // self.num_heads\n",
        "\n",
        "    self.wq = tf.keras.layers.Dense(kargs['d_model'])\n",
        "    self.wk = tf.keras.layers.Dense(kargs['d_model'])\n",
        "    self.wv = tf.keras.layers.Dense(kargs['d_model'])\n",
        "\n",
        "    self.dense = tf.keras.layers.Dense(kargs['d_model'])\n",
        "\n",
        "  def split_heads(self, x, batch_size):\n",
        "    x = tf.reshape(x, (batch_size, -1, self.num_heads, self.depth))\n",
        "    return tf.transpose(x, perm=[0,2,1,3])\n",
        "\n",
        "  def call(self,v,k,q,mask):\n",
        "    batch_size=tf.shape(q)[0]\n",
        "\n",
        "    q = self.wq(q)\n",
        "    k = self.wk(k)\n",
        "    v = self.wv(v)\n",
        "\n",
        "    q = self.split_heads(q, batch_size)\n",
        "    k = self.split_heads(k, batch_size)\n",
        "    v = self.split_heads(v, batch_size)\n",
        "\n",
        "    scaled_attention, attention_weights = scaled_dot_product_attention(\n",
        "        q,k,v,mask)\n",
        "    scaled_attention = tf.transpose(scaled_attention, perm = [0,2,1,3])\n",
        "    concat_attention = tf.reshape(scaled_attention,\n",
        "                                  (batch_size,-1, self.d_model))\n",
        "    output = self.dense(concat_attention)\n",
        "\n",
        "    return output, attention_weights"
      ],
      "execution_count": null,
      "outputs": []
    },
    {
      "cell_type": "code",
      "metadata": {
        "id": "MM36Yy5TV5f0"
      },
      "source": [
        "def point_wise_feed_forward_network(**kargs):\n",
        "  return tf.keras.Sequential([tf.keras.layers.Dense(kargs['dff'], activation ='relu'),\n",
        "                              tf.keras.layers.Dense(kargs['d_model'])\n",
        "  ])"
      ],
      "execution_count": null,
      "outputs": []
    },
    {
      "cell_type": "code",
      "source": [
        "def get_angles(pos, i, d_model):\n",
        "  angle_rates = 1 / np.power(10000, (2 * i//2) / np.float32(d_model))\n",
        "  return pos * angle_rates"
      ],
      "metadata": {
        "id": "kbMjM7lhRMRs"
      },
      "execution_count": null,
      "outputs": []
    },
    {
      "cell_type": "code",
      "source": [
        "def positional_encoding(position, d_model):\n",
        "  angle_rads = get_angles(np.arange(position)[:, np.newaxis],\n",
        "                          np.arange(d_model)[np.newaxis, :],\n",
        "                          d_model)\n",
        "\n",
        "  angle_rads[:,0::2] = np.sin(angle_rads[:, 0::2])\n",
        "\n",
        "  angle_rads[:,1::2] = np.cos(angle_rads[:, 1::2])\n",
        "\n",
        "  pos_encoding = angle_rads[np.newaxis, ...]\n",
        "\n",
        "  return tf.cast(pos_encoding, dtype=tf.float32)"
      ],
      "metadata": {
        "id": "WqFF8iS4RM1V"
      },
      "execution_count": null,
      "outputs": []
    },
    {
      "cell_type": "code",
      "source": [
        "class EncoderLayer(tf.keras.layers.Layer):\n",
        "  def __init__(self, **kargs):\n",
        "    super(EncoderLayer, self).__init__()\n",
        "\n",
        "    self.mha = MultiHeadAttention(**kargs)\n",
        "    self.ffn = point_wise_feed_forward_network(**kargs)\n",
        "\n",
        "    self.layernorm1 = tf.keras.layers.LayerNormalization(epsilon=1e-6)\n",
        "    self.layernorm2 = tf.keras.layers.LayerNormalization(epsilon=1e-6)\n",
        "\n",
        "    self.dropout1 = tf.keras.layers.Dropout(kargs['rate'])\n",
        "    self.dropout2 = tf.keras.layers.Dropout(kargs['rate'])\n",
        "\n",
        "  def call(self, x, mask):\n",
        "    attn_output, _ = self.mha(x, x, x, mask)\n",
        "    attn_output = self.dropout1(attn_output)\n",
        "    out1 = self.layernorm1(x + attn_output)\n",
        "\n",
        "    ffn_output = self.ffn(out1)\n",
        "    ffn_output = self.dropout2(ffn_output)\n",
        "    out2 = self.layernorm2(ffn_output + out1)\n",
        "\n",
        "    return out2"
      ],
      "metadata": {
        "id": "Yy7cl3P6RPdw"
      },
      "execution_count": null,
      "outputs": []
    },
    {
      "cell_type": "code",
      "source": [
        "class Encoder(tf.keras.layers.Layer):\n",
        "  def __init__(self, **kargs):\n",
        "    super(Encoder, self).__init__()\n",
        "\n",
        "    self.d_model = kargs['d_model']\n",
        "    self.num_layers = kargs['num_layers']\n",
        "\n",
        "    self.embedding = tf.keras.layers.Embedding(kargs['input_vocab_size'], self.d_model)\n",
        "    self.pos_encoding = positional_encoding(kargs['maximum_position_encoding'],\n",
        "                                            self.d_model)\n",
        "\n",
        "    self.enc_layers = [EncoderLayer(**kargs)\n",
        "                       for _ in range(self.num_layers)]\n",
        "\n",
        "    self.dropout = tf.keras.layers.Dropout(kargs['rate'])\n",
        "\n",
        "  def call(self, x, mask):\n",
        "\n",
        "    seq_len = tf.shape(x)[1]\n",
        "\n",
        "    x = self.embedding(x)\n",
        "    x *= tf.math.sqrt(tf.cast(self.d_model, tf.float32))\n",
        "    x += self.pos_encoding[:, :seq_len, :]\n",
        "\n",
        "\n",
        "    x = self.dropout(x)\n",
        "\n",
        "    for i in range(self.num_layers):\n",
        "      x=self.enc_layers[i](x,mask)\n",
        "\n",
        "    return x"
      ],
      "metadata": {
        "id": "Ez5ONE5iRRdt"
      },
      "execution_count": null,
      "outputs": []
    },
    {
      "cell_type": "code",
      "source": [
        "class DecoderLayer(tf.keras.layers.Layer):\n",
        "  def __init__(self, **kargs):\n",
        "    super(DecoderLayer, self).__init__()\n",
        "\n",
        "    self.mha1 = MultiHeadAttention(**kargs)\n",
        "    self.mha2 = MultiHeadAttention(**kargs)\n",
        "\n",
        "    self.ffn = point_wise_feed_forward_network(**kargs)\n",
        "\n",
        "    self.layernorm1 = tf.keras.layers.LayerNormalization(epsilon=1e-6)\n",
        "    self.layernorm2 = tf.keras.layers.LayerNormalization(epsilon=1e-6)\n",
        "    self.layernorm3 = tf.keras.layers.LayerNormalization(epsilon=1e-6)\n",
        "\n",
        "    self.dropout1 = tf.keras.layers.Dropout(kargs['rate'])\n",
        "    self.dropout2 = tf.keras.layers.Dropout(kargs['rate'])\n",
        "    self.dropout3 = tf.keras.layers.Dropout(kargs['rate'])\n",
        "\n",
        "  def call(self, x, enc_output, look_ahead_mask, padding_mask):\n",
        "    attn1, attn_weights_block1 = self.mha1(x, x, x, look_ahead_mask)\n",
        "    attn1 = self.dropout1(attn1)\n",
        "    out1 = self.layernorm1(attn1 + x)\n",
        "\n",
        "    attn2, attn_weights_block2 = self.mha2(enc_output, enc_output, out1, padding_mask)\n",
        "    attn2 = self.dropout2(attn2)\n",
        "    out2 = self.layernorm2(attn2 + out1)\n",
        "\n",
        "    ffn_output = self.ffn(out2)\n",
        "    ffn_output = self.dropout3(ffn_output)\n",
        "    out3 = self.layernorm3(ffn_output + out2)\n",
        "\n",
        "    return out3, attn_weights_block1, attn_weights_block2"
      ],
      "metadata": {
        "id": "WAL9bx_iRTpg"
      },
      "execution_count": null,
      "outputs": []
    },
    {
      "cell_type": "code",
      "source": [
        "class Decoder(tf.keras.layers.Layer):\n",
        "  def __init__(self, **kargs):\n",
        "    super(Decoder, self).__init__()\n",
        "\n",
        "    self.d_model = kargs['d_model']\n",
        "    self.num_layers = kargs['num_layers']\n",
        "\n",
        "    self.embedding = tf.keras.layers.Embedding(kargs['target_vocab_size'], self.d_model)\n",
        "    self.pos_encoding = positional_encoding(kargs['maximum_position_encoding'],\n",
        "                                            self.d_model)\n",
        "\n",
        "    self.dec_layers = [DecoderLayer(**kargs)\n",
        "                       for _ in range(self.num_layers)]\n",
        "\n",
        "    self.dropout = tf.keras.layers.Dropout(kargs['rate'])\n",
        "\n",
        "  def call(self, x, enc_output, look_ahead_mask, padding_mask):\n",
        "\n",
        "    seq_len = tf.shape(x)[1]\n",
        "    attention_weights ={}\n",
        "\n",
        "    x = self.embedding(x)\n",
        "    x *= tf.math.sqrt(tf.cast(self.d_model, tf.float32))\n",
        "    x += self.pos_encoding[:, :seq_len, :]\n",
        "\n",
        "\n",
        "    x = self.dropout(x)\n",
        "\n",
        "    for i in range(self.num_layers):\n",
        "      x, block1, block2 = self.dec_layers[i](x, enc_output, look_ahead_mask, padding_mask)\n",
        "\n",
        "      attention_weights['decoder_layer{}_block1'.format(i+1)] = block1\n",
        "      attention_weights['decoder_layer{}_block2'.format(i+1)] = block2\n",
        "\n",
        "    return x, attention_weights"
      ],
      "metadata": {
        "id": "TtXWt0GhRW3Q"
      },
      "execution_count": null,
      "outputs": []
    },
    {
      "cell_type": "code",
      "source": [
        "class Transformer(tf.keras.Model):\n",
        "    def __init__(self, **kargs):\n",
        "        super(Transformer, self).__init__(name=kargs['model_name'])\n",
        "        self.end_token_idx = kargs['end_token_idx']\n",
        "\n",
        "        self.encoder = Encoder(**kargs)\n",
        "        self.decoder = Decoder(**kargs)\n",
        "\n",
        "        self.final_layer = tf.keras.layers.Dense(kargs['target_vocab_size'])\n",
        "\n",
        "    def call(self, x):\n",
        "        inp, tar = x\n",
        "\n",
        "        enc_padding_mask, look_ahead_mask, dec_padding_mask = create_masks(inp, tar)\n",
        "        enc_output = self.encoder(inp, enc_padding_mask)\n",
        "\n",
        "        dec_output, _ = self.decoder(\n",
        "            tar, enc_output, look_ahead_mask, dec_padding_mask)\n",
        "\n",
        "        final_output = self.final_layer(dec_output)\n",
        "\n",
        "        return final_output\n",
        "\n",
        "\n",
        "    def inference(self, x):\n",
        "        inp  = x\n",
        "        tar = tf.expand_dims([STD_INDEX],0)\n",
        "\n",
        "        enc_padding_mask, look_ahead_mask, dec_padding_mask =create_masks(inp, tar) #create_look_ahead_mask\n",
        "        enc_output = self.encoder(inp, enc_padding_mask)\n",
        "\n",
        "        predict_tokens = list()\n",
        "        for t in range(0, MAX_SEQUENCE):\n",
        "            dec_output, _ = self.decoder(tar, enc_output, look_ahead_mask, dec_padding_mask)\n",
        "            final_output = self.final_layer(dec_output)\n",
        "            outputs = tf.argmax(final_output, -1).numpy()\n",
        "            pred_token = outputs[0][-1]\n",
        "            if pred_token == self.end_token_idx:\n",
        "              break\n",
        "            predict_tokens.append(pred_token)\n",
        "            tar = tf.expand_dims([STD_INDEX] + predict_tokens, 0)\n",
        "            _, look_ahead_mask, dec_padding_mask = create_masks(inp, tar)\n",
        "\n",
        "        return predict_tokens"
      ],
      "metadata": {
        "id": "14OdLu_sRaSZ"
      },
      "execution_count": null,
      "outputs": []
    },
    {
      "cell_type": "code",
      "source": [
        "loss_object = tf.keras.losses.SparseCategoricalCrossentropy(from_logits=True, reduction='none')\n",
        "\n",
        "train_accuracy = tf.keras.metrics.SparseCategoricalAccuracy(name='accuracy')\n",
        "\n",
        "def loss(real, pred):\n",
        "    mask = tf.math.logical_not(tf.math.equal(real, 0))\n",
        "    loss_ = loss_object(real, pred)\n",
        "    mask = tf.cast(mask, dtype=loss_.dtype)\n",
        "    loss_ *= mask\n",
        "    return tf.reduce_mean(loss_)\n",
        "\n",
        "def accuracy(real, pred):\n",
        "    mask = tf.math.logical_not(tf.math.equal(real, 0))\n",
        "    mask = tf.expand_dims(tf.cast(mask, dtype=pred.dtype), axis=-1)\n",
        "    pred *= mask\n",
        "    acc = train_accuracy(real, pred)\n",
        "\n",
        "    return tf.reduce_mean(acc)"
      ],
      "metadata": {
        "id": "LEx38p27Rg9_"
      },
      "execution_count": null,
      "outputs": []
    },
    {
      "cell_type": "code",
      "source": [
        "model = Transformer(**kargs)\n",
        "model.compile(optimizer=tf.keras.optimizers.Adam(1e-4), loss=loss, metrics=[accuracy])"
      ],
      "metadata": {
        "id": "HeuxQrKqRl_4"
      },
      "execution_count": null,
      "outputs": []
    },
    {
      "cell_type": "code",
      "metadata": {
        "colab": {
          "base_uri": "https://localhost:8080/"
        },
        "id": "I5NxjTMSV74m",
        "outputId": "fc22e697-3b8c-4814-cbce-03dcaee885f8"
      },
      "source": [
        "PATH = DATA_OUT_PATH + model_name\n",
        "if not(os.path.isdir(PATH)):\n",
        "        os.makedirs(os.path.join(PATH))\n",
        "\n",
        "checkpoint_path = DATA_OUT_PATH + model_name + '/weights.h5'\n",
        "\n",
        "cp_callback = ModelCheckpoint(\n",
        "    checkpoint_path, monitor='val_accuracy', verbose=1, save_best_only=True, save_weights_only=True)\n",
        "\n",
        "earlystop_callback = EarlyStopping(monitor='val_accuracy', min_delta=0.0001, patience=10)\n",
        "\n",
        "history = model.fit([index_inputs, index_outputs], index_targets,\n",
        "                    batch_size=BATCH_SIZE, epochs=EPOCHS,\n",
        "                    validation_split=VALID_SPLIT, callbacks=[earlystop_callback, cp_callback])"
      ],
      "execution_count": null,
      "outputs": [
        {
          "output_type": "stream",
          "name": "stdout",
          "text": [
            "Epoch 1/30\n",
            "7/9 [======================>.......] - ETA: 0s - loss: 0.9688 - accuracy: 0.8234\n",
            "Epoch 1: val_accuracy improved from -inf to 0.84800, saving model to /content/drive/MyDrive/Colab Notebooks/data_out(new)/transformer/weights.h5\n",
            "9/9 [==============================] - 9s 163ms/step - loss: 0.9745 - accuracy: 0.8284 - val_loss: 0.5545 - val_accuracy: 0.8480\n",
            "Epoch 2/30\n",
            "8/9 [=========================>....] - ETA: 0s - loss: 0.6559 - accuracy: 0.8470\n",
            "Epoch 2: val_accuracy improved from 0.84800 to 0.85200, saving model to /content/drive/MyDrive/Colab Notebooks/data_out(new)/transformer/weights.h5\n",
            "9/9 [==============================] - 0s 52ms/step - loss: 0.6655 - accuracy: 0.8474 - val_loss: 0.6545 - val_accuracy: 0.8520\n",
            "Epoch 3/30\n",
            "9/9 [==============================] - ETA: 0s - loss: 0.5678 - accuracy: 0.8554\n",
            "Epoch 3: val_accuracy improved from 0.85200 to 0.85733, saving model to /content/drive/MyDrive/Colab Notebooks/data_out(new)/transformer/weights.h5\n",
            "9/9 [==============================] - 0s 49ms/step - loss: 0.5678 - accuracy: 0.8554 - val_loss: 0.5293 - val_accuracy: 0.8573\n",
            "Epoch 4/30\n",
            "9/9 [==============================] - ETA: 0s - loss: 0.4020 - accuracy: 0.8627\n",
            "Epoch 4: val_accuracy improved from 0.85733 to 0.86650, saving model to /content/drive/MyDrive/Colab Notebooks/data_out(new)/transformer/weights.h5\n",
            "9/9 [==============================] - 0s 50ms/step - loss: 0.4020 - accuracy: 0.8627 - val_loss: 0.5769 - val_accuracy: 0.8665\n",
            "Epoch 5/30\n",
            "9/9 [==============================] - ETA: 0s - loss: 0.2312 - accuracy: 0.8733\n",
            "Epoch 5: val_accuracy improved from 0.86650 to 0.87720, saving model to /content/drive/MyDrive/Colab Notebooks/data_out(new)/transformer/weights.h5\n",
            "9/9 [==============================] - 0s 50ms/step - loss: 0.2312 - accuracy: 0.8733 - val_loss: 0.5135 - val_accuracy: 0.8772\n",
            "Epoch 6/30\n",
            "9/9 [==============================] - ETA: 0s - loss: 0.1913 - accuracy: 0.8831\n",
            "Epoch 6: val_accuracy improved from 0.87720 to 0.88700, saving model to /content/drive/MyDrive/Colab Notebooks/data_out(new)/transformer/weights.h5\n",
            "9/9 [==============================] - 0s 51ms/step - loss: 0.1913 - accuracy: 0.8831 - val_loss: 0.4910 - val_accuracy: 0.8870\n",
            "Epoch 7/30\n",
            "9/9 [==============================] - ETA: 0s - loss: 0.1396 - accuracy: 0.8921\n",
            "Epoch 7: val_accuracy improved from 0.88700 to 0.89571, saving model to /content/drive/MyDrive/Colab Notebooks/data_out(new)/transformer/weights.h5\n",
            "9/9 [==============================] - 0s 48ms/step - loss: 0.1396 - accuracy: 0.8921 - val_loss: 0.5699 - val_accuracy: 0.8957\n",
            "Epoch 8/30\n",
            "9/9 [==============================] - ETA: 0s - loss: 0.1064 - accuracy: 0.9016\n",
            "Epoch 8: val_accuracy improved from 0.89571 to 0.90475, saving model to /content/drive/MyDrive/Colab Notebooks/data_out(new)/transformer/weights.h5\n",
            "9/9 [==============================] - 0s 49ms/step - loss: 0.1064 - accuracy: 0.9016 - val_loss: 0.4447 - val_accuracy: 0.9047\n",
            "Epoch 9/30\n",
            "9/9 [==============================] - ETA: 0s - loss: 0.0806 - accuracy: 0.9082\n",
            "Epoch 9: val_accuracy improved from 0.90475 to 0.91089, saving model to /content/drive/MyDrive/Colab Notebooks/data_out(new)/transformer/weights.h5\n",
            "9/9 [==============================] - 0s 51ms/step - loss: 0.0806 - accuracy: 0.9082 - val_loss: 0.3610 - val_accuracy: 0.9109\n",
            "Epoch 10/30\n",
            "9/9 [==============================] - ETA: 0s - loss: 0.0624 - accuracy: 0.9149\n",
            "Epoch 10: val_accuracy improved from 0.91089 to 0.91800, saving model to /content/drive/MyDrive/Colab Notebooks/data_out(new)/transformer/weights.h5\n",
            "9/9 [==============================] - 0s 49ms/step - loss: 0.0624 - accuracy: 0.9149 - val_loss: 0.2702 - val_accuracy: 0.9180\n",
            "Epoch 11/30\n",
            "9/9 [==============================] - ETA: 0s - loss: 0.0441 - accuracy: 0.9211\n",
            "Epoch 11: val_accuracy improved from 0.91800 to 0.92345, saving model to /content/drive/MyDrive/Colab Notebooks/data_out(new)/transformer/weights.h5\n",
            "9/9 [==============================] - 0s 50ms/step - loss: 0.0441 - accuracy: 0.9211 - val_loss: 0.2940 - val_accuracy: 0.9235\n",
            "Epoch 12/30\n",
            "9/9 [==============================] - ETA: 0s - loss: 0.0358 - accuracy: 0.9266\n",
            "Epoch 12: val_accuracy improved from 0.92345 to 0.92900, saving model to /content/drive/MyDrive/Colab Notebooks/data_out(new)/transformer/weights.h5\n",
            "9/9 [==============================] - 0s 50ms/step - loss: 0.0358 - accuracy: 0.9266 - val_loss: 0.3022 - val_accuracy: 0.9290\n",
            "Epoch 13/30\n",
            "9/9 [==============================] - ETA: 0s - loss: 0.0254 - accuracy: 0.9316\n",
            "Epoch 13: val_accuracy improved from 0.92900 to 0.93354, saving model to /content/drive/MyDrive/Colab Notebooks/data_out(new)/transformer/weights.h5\n",
            "9/9 [==============================] - 0s 49ms/step - loss: 0.0254 - accuracy: 0.9316 - val_loss: 0.2514 - val_accuracy: 0.9335\n",
            "Epoch 14/30\n",
            "9/9 [==============================] - ETA: 0s - loss: 0.0123 - accuracy: 0.9360\n",
            "Epoch 14: val_accuracy improved from 0.93354 to 0.93757, saving model to /content/drive/MyDrive/Colab Notebooks/data_out(new)/transformer/weights.h5\n",
            "9/9 [==============================] - 0s 50ms/step - loss: 0.0123 - accuracy: 0.9360 - val_loss: 0.3262 - val_accuracy: 0.9376\n",
            "Epoch 15/30\n",
            "9/9 [==============================] - ETA: 0s - loss: 0.0136 - accuracy: 0.9397\n",
            "Epoch 15: val_accuracy improved from 0.93757 to 0.94120, saving model to /content/drive/MyDrive/Colab Notebooks/data_out(new)/transformer/weights.h5\n",
            "9/9 [==============================] - 0s 48ms/step - loss: 0.0136 - accuracy: 0.9397 - val_loss: 0.2542 - val_accuracy: 0.9412\n",
            "Epoch 16/30\n",
            "9/9 [==============================] - ETA: 0s - loss: 0.0074 - accuracy: 0.9431\n",
            "Epoch 16: val_accuracy improved from 0.94120 to 0.94450, saving model to /content/drive/MyDrive/Colab Notebooks/data_out(new)/transformer/weights.h5\n",
            "9/9 [==============================] - 0s 48ms/step - loss: 0.0074 - accuracy: 0.9431 - val_loss: 0.2581 - val_accuracy: 0.9445\n",
            "Epoch 17/30\n",
            "9/9 [==============================] - ETA: 0s - loss: 0.0056 - accuracy: 0.9462\n",
            "Epoch 17: val_accuracy improved from 0.94450 to 0.94741, saving model to /content/drive/MyDrive/Colab Notebooks/data_out(new)/transformer/weights.h5\n",
            "9/9 [==============================] - 1s 90ms/step - loss: 0.0056 - accuracy: 0.9462 - val_loss: 0.2329 - val_accuracy: 0.9474\n",
            "Epoch 18/30\n",
            "9/9 [==============================] - ETA: 0s - loss: 0.0029 - accuracy: 0.9489\n",
            "Epoch 18: val_accuracy improved from 0.94741 to 0.95011, saving model to /content/drive/MyDrive/Colab Notebooks/data_out(new)/transformer/weights.h5\n",
            "9/9 [==============================] - 0s 50ms/step - loss: 0.0029 - accuracy: 0.9489 - val_loss: 0.1949 - val_accuracy: 0.9501\n",
            "Epoch 19/30\n",
            "8/9 [=========================>....] - ETA: 0s - loss: 0.0029 - accuracy: 0.9513\n",
            "Epoch 19: val_accuracy improved from 0.95011 to 0.95253, saving model to /content/drive/MyDrive/Colab Notebooks/data_out(new)/transformer/weights.h5\n",
            "9/9 [==============================] - 0s 52ms/step - loss: 0.0027 - accuracy: 0.9515 - val_loss: 0.1853 - val_accuracy: 0.9525\n",
            "Epoch 20/30\n",
            "8/9 [=========================>....] - ETA: 0s - loss: 0.0019 - accuracy: 0.9536\n",
            "Epoch 20: val_accuracy improved from 0.95253 to 0.95470, saving model to /content/drive/MyDrive/Colab Notebooks/data_out(new)/transformer/weights.h5\n",
            "9/9 [==============================] - 0s 52ms/step - loss: 0.0018 - accuracy: 0.9537 - val_loss: 0.1876 - val_accuracy: 0.9547\n",
            "Epoch 21/30\n",
            "9/9 [==============================] - ETA: 0s - loss: 0.0033 - accuracy: 0.9558\n",
            "Epoch 21: val_accuracy improved from 0.95470 to 0.95667, saving model to /content/drive/MyDrive/Colab Notebooks/data_out(new)/transformer/weights.h5\n",
            "9/9 [==============================] - 0s 49ms/step - loss: 0.0033 - accuracy: 0.9558 - val_loss: 0.1870 - val_accuracy: 0.9567\n",
            "Epoch 22/30\n",
            "8/9 [=========================>....] - ETA: 0s - loss: 0.0021 - accuracy: 0.9576\n",
            "Epoch 22: val_accuracy improved from 0.95667 to 0.95845, saving model to /content/drive/MyDrive/Colab Notebooks/data_out(new)/transformer/weights.h5\n",
            "9/9 [==============================] - 0s 52ms/step - loss: 0.0019 - accuracy: 0.9577 - val_loss: 0.2100 - val_accuracy: 0.9585\n",
            "Epoch 23/30\n",
            "9/9 [==============================] - ETA: 0s - loss: 0.0062 - accuracy: 0.9593\n",
            "Epoch 23: val_accuracy improved from 0.95845 to 0.96000, saving model to /content/drive/MyDrive/Colab Notebooks/data_out(new)/transformer/weights.h5\n",
            "9/9 [==============================] - 0s 49ms/step - loss: 0.0062 - accuracy: 0.9593 - val_loss: 0.2093 - val_accuracy: 0.9600\n",
            "Epoch 24/30\n",
            "9/9 [==============================] - ETA: 0s - loss: 0.0164 - accuracy: 0.9608\n",
            "Epoch 24: val_accuracy improved from 0.96000 to 0.96133, saving model to /content/drive/MyDrive/Colab Notebooks/data_out(new)/transformer/weights.h5\n",
            "9/9 [==============================] - 0s 50ms/step - loss: 0.0164 - accuracy: 0.9608 - val_loss: 0.1900 - val_accuracy: 0.9613\n",
            "Epoch 25/30\n",
            "8/9 [=========================>....] - ETA: 0s - loss: 0.0032 - accuracy: 0.9620\n",
            "Epoch 25: val_accuracy improved from 0.96133 to 0.96272, saving model to /content/drive/MyDrive/Colab Notebooks/data_out(new)/transformer/weights.h5\n",
            "9/9 [==============================] - 0s 51ms/step - loss: 0.0031 - accuracy: 0.9621 - val_loss: 0.1943 - val_accuracy: 0.9627\n",
            "Epoch 26/30\n",
            "9/9 [==============================] - ETA: 0s - loss: 0.0131 - accuracy: 0.9634\n",
            "Epoch 26: val_accuracy improved from 0.96272 to 0.96392, saving model to /content/drive/MyDrive/Colab Notebooks/data_out(new)/transformer/weights.h5\n",
            "9/9 [==============================] - 0s 50ms/step - loss: 0.0131 - accuracy: 0.9634 - val_loss: 0.2745 - val_accuracy: 0.9639\n",
            "Epoch 27/30\n",
            "9/9 [==============================] - ETA: 0s - loss: 0.0034 - accuracy: 0.9646\n",
            "Epoch 27: val_accuracy improved from 0.96392 to 0.96504, saving model to /content/drive/MyDrive/Colab Notebooks/data_out(new)/transformer/weights.h5\n",
            "9/9 [==============================] - 0s 49ms/step - loss: 0.0034 - accuracy: 0.9646 - val_loss: 0.3448 - val_accuracy: 0.9650\n",
            "Epoch 28/30\n",
            "9/9 [==============================] - ETA: 0s - loss: 0.0085 - accuracy: 0.9656\n",
            "Epoch 28: val_accuracy improved from 0.96504 to 0.96600, saving model to /content/drive/MyDrive/Colab Notebooks/data_out(new)/transformer/weights.h5\n",
            "9/9 [==============================] - 0s 48ms/step - loss: 0.0085 - accuracy: 0.9656 - val_loss: 0.2055 - val_accuracy: 0.9660\n",
            "Epoch 29/30\n",
            "9/9 [==============================] - ETA: 0s - loss: 0.0021 - accuracy: 0.9666\n",
            "Epoch 29: val_accuracy improved from 0.96600 to 0.96703, saving model to /content/drive/MyDrive/Colab Notebooks/data_out(new)/transformer/weights.h5\n",
            "9/9 [==============================] - 0s 50ms/step - loss: 0.0021 - accuracy: 0.9666 - val_loss: 0.1603 - val_accuracy: 0.9670\n",
            "Epoch 30/30\n",
            "9/9 [==============================] - ETA: 0s - loss: 0.0024 - accuracy: 0.9676\n",
            "Epoch 30: val_accuracy improved from 0.96703 to 0.96800, saving model to /content/drive/MyDrive/Colab Notebooks/data_out(new)/transformer/weights.h5\n",
            "9/9 [==============================] - 0s 50ms/step - loss: 0.0024 - accuracy: 0.9676 - val_loss: 0.1929 - val_accuracy: 0.9680\n"
          ]
        }
      ]
    },
    {
      "cell_type": "code",
      "metadata": {
        "colab": {
          "base_uri": "https://localhost:8080/",
          "height": 280
        },
        "id": "OuM5Ghv6V-Xu",
        "outputId": "0dbcf584-e52d-4019-af25-5d3a751002ad"
      },
      "source": [
        "plot_graphs(history, 'accuracy')"
      ],
      "execution_count": null,
      "outputs": [
        {
          "output_type": "display_data",
          "data": {
            "text/plain": [
              "<Figure size 432x288 with 1 Axes>"
            ],
            "image/png": "[encoded data removed]"
          },
          "metadata": {
            "needs_background": "light"
          }
        }
      ]
    },
    {
      "cell_type": "code",
      "metadata": {
        "colab": {
          "base_uri": "https://localhost:8080/",
          "height": 280
        },
        "id": "0eU5DlGSWBDM",
        "outputId": "8bbf49e0-3e6c-4ffe-f703-e65261aa4915"
      },
      "source": [
        "plot_graphs(history, 'loss')"
      ],
      "execution_count": null,
      "outputs": [
        {
          "output_type": "display_data",
          "data": {
            "text/plain": [
              "<Figure size 432x288 with 1 Axes>"
            ],
            "image/png": "[encoded data removed]"
          },
          "metadata": {
            "needs_background": "light"
          }
        }
      ]
    },
    {
      "cell_type": "code",
      "metadata": {
        "id": "lRcU5EkwWC8V"
      },
      "source": [
        "SAVE_FILE_NM = \"weights.h5\"\n",
        "model.load_weights(os.path.join(DATA_OUT_PATH, model_name, SAVE_FILE_NM))"
      ],
      "execution_count": null,
      "outputs": []
    },
    {
      "cell_type": "code",
      "source": [
        "from preprocess import enc_processing"
      ],
      "metadata": {
        "id": "RWebnMZjT7rV"
      },
      "execution_count": null,
      "outputs": []
    },
    {
      "cell_type": "code",
      "source": [
        "char2idx = prepro_configs['char2idx']\n",
        "idx2char = prepro_configs['idx2char']"
      ],
      "metadata": {
        "id": "VoVB202wUsJ6"
      },
      "execution_count": null,
      "outputs": []
    },
    {
      "cell_type": "code",
      "metadata": {
        "colab": {
          "base_uri": "https://localhost:8080/"
        },
        "id": "H443qwF3WFps",
        "outputId": "43c0879f-c58b-4d4e-8ee8-e6c0588b1235"
      },
      "source": [
        "text = '남자친구 승진 선물로 뭐가 좋을까?'\n",
        "\n",
        "test_index_inputs, _ = enc_processing([text], char2idx)\n",
        "outputs = model.inference(test_index_inputs)\n",
        "#print(predict_tokens)\n",
        "\n",
        "print(' '.join([idx2char[str(o)] for o in outputs]))"
      ],
      "execution_count": null,
      "outputs": [
        {
          "output_type": "stream",
          "name": "stdout",
          "text": [
            "평소에 필요했던 게 좋을 것 같아요\n"
          ]
        }
      ]
    }
  ]
}